{
  "cells": [
    {
      "cell_type": "code",
      "execution_count": 1,
      "metadata": {
        "id": "Z0yGksgOp91i"
      },
      "outputs": [],
      "source": [
        "import numpy as np\n",
        "import pandas as pd\n",
        "import matplotlib.pyplot as plt\n",
        "from sklearn.svm import SVC, SVR\n",
        "from sklearn.metrics import accuracy_score"
      ]
    },
    {
      "cell_type": "code",
      "execution_count": 2,
      "metadata": {
        "id": "7ZYQFbA0qMZ-"
      },
      "outputs": [],
      "source": [
        "# Load data\n",
        "x_train = np.load(\"x_train.npy\")\n",
        "y_train = np.load(\"y_train.npy\")\n",
        "x_test = np.load(\"x_test.npy\")\n",
        "y_test = np.load(\"y_test.npy\")"
      ]
    },
    {
      "cell_type": "code",
      "execution_count": 3,
      "metadata": {
        "id": "u0ewnfh6qOoM"
      },
      "outputs": [
        {
          "name": "stdout",
          "output_type": "stream",
          "text": [
            "(7000, 300)\n",
            "(7000,)\n",
            "(3000, 300)\n"
          ]
        }
      ],
      "source": [
        "# 7000 data with 300 features\n",
        "print(x_train.shape)\n",
        "print(y_train.shape)\n",
        "print(x_test.shape)"
      ]
    },
    {
      "cell_type": "code",
      "execution_count": 4,
      "metadata": {
        "id": "ryZdU0fdqTkb"
      },
      "outputs": [
        {
          "name": "stdout",
          "output_type": "stream",
          "text": [
            "[0 1]\n"
          ]
        }
      ],
      "source": [
        "# It's a binary classification problem \n",
        "print(np.unique(y_train))"
      ]
    },
    {
      "attachments": {},
      "cell_type": "markdown",
      "metadata": {
        "id": "qy1aMJ7sqwwg"
      },
      "source": [
        "# Q1"
      ]
    },
    {
      "cell_type": "code",
      "execution_count": 5,
      "metadata": {
        "id": "TI26_jRbqVX3"
      },
      "outputs": [],
      "source": [
        "def cross_validation(x_train, y_train, k=5):\n",
        "    \n",
        "    # Do not modify the function name and always take 'x_train, y_train, k' as the inputs.\n",
        "\n",
        "    # TODO HERE\n",
        "    n_samples = x_train.shape[0]\n",
        "    indices = np.arange(n_samples)\n",
        "    np.random.shuffle(indices)\n",
        "    folds = []\n",
        "    '''\n",
        "    let n_samples = 70, K = 8\n",
        "    then first 70 % 8 = 6 folds, each has 70 // 8 + 1 = 9 samples\n",
        "    other 8-6 folds, each has 70 // 8 = 8 samples\n",
        "    total = 6 * 9 + 2 * 8 = 70 samples == n_samples\n",
        "    '''\n",
        "    size = n_samples//k + 1\n",
        "    for i in range(n_samples%k):\n",
        "        start = i * size\n",
        "        fold = indices[start:start+size]\n",
        "        folds.append(fold)\n",
        "\n",
        "    size = n_samples // k\n",
        "    for i in range(n_samples%k, k):\n",
        "        start = i * size\n",
        "        fold = indices[start:start+size]\n",
        "        folds.append(fold)\n",
        "    folds = np.asarray(folds)\n",
        "\n",
        "    kfold = []\n",
        "    for i in range(k):\n",
        "        train = folds[np.arange(k)!=i]\n",
        "        val = folds[i]\n",
        "        kfold.append([train.ravel(), val])\n",
        "    return kfold\n",
        "    #return NotImplementedError"
      ]
    },
    {
      "cell_type": "code",
      "execution_count": 6,
      "metadata": {
        "id": "7jTma6saqf3E"
      },
      "outputs": [],
      "source": [
        "kfold_data = cross_validation(x_train, y_train, k=10)\n",
        "assert len(kfold_data) == 10 # should contain 10 fold of data\n",
        "assert len(kfold_data[0]) == 2 # each element should contain train fold and validation fold\n",
        "assert kfold_data[0][1].shape[0] == 700 # The number of data in each validation fold should equal to training data divieded by K"
      ]
    },
    {
      "attachments": {},
      "cell_type": "markdown",
      "metadata": {
        "id": "IccJcpN_q0Z0"
      },
      "source": [
        "# K-Fold Example"
      ]
    },
    {
      "cell_type": "code",
      "execution_count": 7,
      "metadata": {
        "id": "O_zT2TAzqjay"
      },
      "outputs": [
        {
          "name": "stdout",
          "output_type": "stream",
          "text": [
            "Split: 1, Training index: [ 0  1  2  3  5  6  7  8  9 10 14 15 16 17 18 19], Validation index: [ 4 11 12 13]\n",
            "Split: 2, Training index: [ 0  1  2  4  5  6  8 10 11 12 13 14 15 16 17 18], Validation index: [ 3  7  9 19]\n",
            "Split: 3, Training index: [ 0  2  3  4  5  6  7  9 11 12 13 14 15 16 17 19], Validation index: [ 1  8 10 18]\n",
            "Split: 4, Training index: [ 1  2  3  4  6  7  8  9 10 11 12 13 14 16 18 19], Validation index: [ 0  5 15 17]\n",
            "Split: 5, Training index: [ 0  1  3  4  5  7  8  9 10 11 12 13 15 17 18 19], Validation index: [ 2  6 14 16]\n"
          ]
        }
      ],
      "source": [
        "from sklearn.model_selection import KFold\n",
        "\n",
        "X = np.arange(20)\n",
        "\n",
        "kf = KFold(n_splits=5, shuffle=True)\n",
        "kfold_data= []\n",
        "for i, (train_index, val_index) in enumerate(kf.split(X)):\n",
        "    print(\"Split: %s, Training index: %s, Validation index: %s\" % (i+1, train_index, val_index))\n",
        "    kfold_data.append([train_index, val_index])"
      ]
    },
    {
      "cell_type": "code",
      "execution_count": 8,
      "metadata": {
        "id": "lYCTmie5qnow"
      },
      "outputs": [],
      "source": [
        "assert len(kfold_data) == 5 # should contain 5 fold of data\n",
        "assert len(kfold_data[0]) == 2 # each element should contains index of training fold and validation fold\n",
        "assert kfold_data[0][1].shape[0] == 4 # The number of data in each validation fold should equal to training data divieded by K"
      ]
    },
    {
      "attachments": {},
      "cell_type": "markdown",
      "metadata": {
        "id": "Gh-DQiNiq5v0"
      },
      "source": [
        "## Q2"
      ]
    },
    {
      "cell_type": "code",
      "execution_count": 9,
      "metadata": {
        "id": "31V1fW7Qq6la"
      },
      "outputs": [],
      "source": [
        "# (Example) Using SVC from sklearn\n",
        "\n",
        "clf = SVC(C=1.0, gamma=0.01, kernel='rbf')"
      ]
    },
    {
      "cell_type": "code",
      "execution_count": 10,
      "metadata": {
        "id": "VzBT0t6Yq_Dj"
      },
      "outputs": [
        {
          "name": "stdout",
          "output_type": "stream",
          "text": [
            "1400\n"
          ]
        }
      ],
      "source": [
        "best_c, best_gamma = None, None\n",
        "\n",
        "# TODO HERE\n",
        "# k-Flod Cross Validation and Grid Search\n",
        "C = [0.01, 0.1, 1, 10, 100]\n",
        "gamma = [0.0001, 0.001, 0.01, 1, 10, 100]\n",
        "max_acc = 0\n",
        "grid = []\n",
        "kfold_data = cross_validation(x_train, y_train, 5)\n",
        "print(len(kfold_data[0][1]))\n",
        "for c in C:\n",
        "    for g in gamma:\n",
        "        acc = 0\n",
        "        classifier = SVC(C = c, gamma = g, kernel = 'rbf')\n",
        "        for kf in kfold_data:\n",
        "            xt = x_train[kf[0]]\n",
        "            yt = y_train[kf[0]]\n",
        "            xv = x_train[kf[1]]\n",
        "            yv = y_train[kf[1]]\n",
        "\n",
        "            \n",
        "            classifier.fit(xt, yt)\n",
        "            y_pred = classifier.predict(xv)\n",
        "            acc += accuracy_score(yv, y_pred)\n",
        "        acc /= len(kfold_data)\n",
        "\n",
        "        if acc > max_acc:\n",
        "            best_c = c\n",
        "            best_gamma = g\n",
        "            max_acc = acc\n",
        "        \n",
        "        grid.append(acc)\n",
        "grid_array = np.array(grid).reshape((len(C), len(gamma)))\n",
        "best_parameters=(best_c, best_gamma)"
      ]
    },
    {
      "cell_type": "code",
      "execution_count": 11,
      "metadata": {
        "id": "mGTyHMFgrAXd"
      },
      "outputs": [
        {
          "name": "stdout",
          "output_type": "stream",
          "text": [
            "(best_c, best_gamma) is  (1, 0.0001)\n",
            "[[0.48814286 0.48814286 0.48814286 0.48814286 0.48814286 0.48814286]\n",
            " [0.97957143 0.48814286 0.48814286 0.48814286 0.48814286 0.48814286]\n",
            " [0.99485714 0.48814286 0.48814286 0.48814286 0.48814286 0.48814286]\n",
            " [0.99485714 0.48814286 0.48814286 0.48814286 0.48814286 0.48814286]\n",
            " [0.99485714 0.48814286 0.48814286 0.48814286 0.48814286 0.48814286]]\n"
          ]
        }
      ],
      "source": [
        "print(\"(best_c, best_gamma) is \", best_parameters)\n",
        "print(grid_array)"
      ]
    },
    {
      "attachments": {},
      "cell_type": "markdown",
      "metadata": {
        "id": "KbPoOy0lrDPJ"
      },
      "source": [
        "# Q3"
      ]
    },
    {
      "cell_type": "code",
      "execution_count": 12,
      "metadata": {
        "id": "ibuxQOEQrEgJ"
      },
      "outputs": [
        {
          "data": {
            "image/png": "[encoded data removed]",
            "text/plain": [
              "<Figure size 640x480 with 2 Axes>"
            ]
          },
          "metadata": {},
          "output_type": "display_data"
        }
      ],
      "source": [
        "# Plot the grid search results of your SVM\n",
        "\n",
        "# TODO HERE\n",
        "plt.imshow(grid_array, cmap = 'Blues')\n",
        "plt.colorbar()\n",
        "plt.title(\"Hyperparameter Gridsearch\")\n",
        "plt.xlabel(\"Gamma Parameter\")\n",
        "plt.xticks(np.arange(len(gamma)), gamma)\n",
        "plt.ylabel(\"C Parameter\")\n",
        "plt.yticks(np.arange(len(C)), C)\n",
        "for x in range(len(C)):\n",
        "    for y in range(len(gamma)):\n",
        "        plt.text(y-0.3,x,f'{grid_array[x,y]: .2f}')"
      ]
    },
    {
      "attachments": {},
      "cell_type": "markdown",
      "metadata": {
        "id": "QVA-It-4rM9Q"
      },
      "source": [
        "## Q4"
      ]
    },
    {
      "cell_type": "code",
      "execution_count": 13,
      "metadata": {
        "id": "Zl963HdLrMKg"
      },
      "outputs": [
        {
          "name": "stdout",
          "output_type": "stream",
          "text": [
            "Accuracy score:  0.995\n"
          ]
        }
      ],
      "source": [
        "# Do Not Modify Below\n",
        "\n",
        "best_model = SVC(C=best_parameters[0], gamma=best_parameters[1], kernel='rbf')\n",
        "best_model.fit(x_train, y_train)\n",
        "\n",
        "y_pred = best_model.predict(x_test)\n",
        "\n",
        "print(\"Accuracy score: \", accuracy_score(y_pred, y_test))\n",
        "\n",
        "# If your accuracy here > 0.9 then you will get full credit (20 points)."
      ]
    }
  ],
  "metadata": {
    "colab": {
      "provenance": []
    },
    "kernelspec": {
      "display_name": "Python 3",
      "name": "python3"
    },
    "language_info": {
      "codemirror_mode": {
        "name": "ipython",
        "version": 3
      },
      "file_extension": ".py",
      "mimetype": "text/x-python",
      "name": "python",
      "nbconvert_exporter": "python",
      "pygments_lexer": "ipython3",
      "version": "3.10.9"
    }
  },
  "nbformat": 4,
  "nbformat_minor": 0
}
