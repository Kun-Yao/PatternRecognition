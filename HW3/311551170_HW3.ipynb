{
  "cells": [
    {
      "cell_type": "code",
      "execution_count": 2,
      "metadata": {
        "id": "ZQD8NqPhKyBP"
      },
      "outputs": [],
      "source": [
        "import copy\n",
        "import pandas as pd\n",
        "import numpy as np\n",
        "import matplotlib.pyplot as plt\n",
        "from sklearn.metrics import accuracy_score # Please note that this is the only sklearn function that can be utilized."
      ]
    },
    {
      "cell_type": "markdown",
      "metadata": {
        "id": "YV1MHt_VTg9f"
      },
      "source": [
        "# Load data"
      ]
    },
    {
      "cell_type": "code",
      "execution_count": 3,
      "metadata": {
        "id": "a1vkTOD6K5Nj"
      },
      "outputs": [],
      "source": [
        "# Load the train/val/test dataset\n",
        "\n",
        "df_train = pd.DataFrame(pd.read_csv(\"./PR_HW3_Train.csv\"))\n",
        "df_val   = pd.DataFrame(pd.read_csv(\"./PR_HW3_Val.csv\"))\n",
        "df_test  = pd.DataFrame(pd.read_csv(\"./PR_HW3_Test.csv\"))\n",
        "\n",
        "X_train = df_train[['Feature1', 'Feature2', 'Feature3', 'Feature4', 'Feature5', 'Feature6', 'Feature7']].to_numpy()\n",
        "y_train = df_train[\"Target\"].to_numpy().reshape((X_train.shape[0], 1)).astype(np.int32)\n",
        "\n",
        "X_val = df_val[['Feature1', 'Feature2', 'Feature3', 'Feature4', 'Feature5', 'Feature6', 'Feature7']].to_numpy()\n",
        "y_val = df_val[\"Target\"].to_numpy().reshape((X_train.shape[0], 1)).astype(np.int32)\n",
        "\n",
        "X_test = df_test[['Feature1', 'Feature2', 'Feature3', 'Feature4', 'Feature5', 'Feature6', 'Feature7']].to_numpy()\n",
        "y_test = df_test[\"Target\"].to_numpy().reshape((X_train.shape[0], 1)).astype(np.int32)"
      ]
    },
    {
      "cell_type": "code",
      "execution_count": 4,
      "metadata": {
        "id": "MJcktFIuK78Y"
      },
      "outputs": [
        {
          "name": "stdout",
          "output_type": "stream",
          "text": [
            "(800, 7)\n",
            "(800, 1)\n",
            "(800, 7)\n",
            "(800, 1)\n",
            "(800, 7)\n",
            "(800, 1)\n"
          ]
        }
      ],
      "source": [
        "print(X_train.shape)\n",
        "print(y_train.shape)\n",
        "print(X_val.shape)\n",
        "print(y_val.shape)\n",
        "print(X_test.shape)\n",
        "print(y_test.shape)"
      ]
    },
    {
      "cell_type": "markdown",
      "metadata": {
        "id": "wa3hnJ9sTkvh"
      },
      "source": [
        "# Model Implementation"
      ]
    },
    {
      "cell_type": "code",
      "execution_count": 5,
      "metadata": {
        "id": "5e_nviB8LAK8"
      },
      "outputs": [],
      "source": [
        "def gini(sequence):\n",
        "    _, cnt = np.unique(sequence, return_counts=True)\n",
        "    prob = cnt / sequence.shape[0]\n",
        "    g = 1 - np.sum([p**2 for p in prob])\n",
        "    return g\n",
        "\n",
        "\n",
        "def entropy(sequence):\n",
        "    _, cnt = np.unique(sequence, return_counts=True)\n",
        "    prob = cnt / sequence.shape[0]\n",
        "    e = -1 * np.sum([p*np.log2(p) for p in prob])\n",
        "    return e"
      ]
    },
    {
      "cell_type": "code",
      "execution_count": 6,
      "metadata": {
        "id": "_HJA_108LF_G"
      },
      "outputs": [],
      "source": [
        "class Tree():\n",
        "    \"\"\"\n",
        "        You can add/change any variables/methods to meet your need.\n",
        "    \"\"\"\n",
        "    def __init__(self):       \n",
        "        self.feature = None\n",
        "        self.threshold = None\n",
        "        #self.impurity = None\n",
        "        #self.data_num = None\n",
        "        self.root = None\n",
        "        self.left = None\n",
        "        self.right = None\n",
        "        self.predict_class = None        \n",
        "        pass    \n"
      ]
    },
    {
      "cell_type": "code",
      "execution_count": 7,
      "metadata": {
        "id": "O_vgKCIwLdS0"
      },
      "outputs": [],
      "source": [
        "class DecisionTree():\n",
        "    def __init__(self, criterion='gini', max_depth=None, max_features=None):\n",
        "        \n",
        "        \"\"\"\n",
        "            You can add/change any variables/methods to meet your need.\n",
        "        \"\"\"\n",
        "\n",
        "        if criterion == 'gini':\n",
        "            self.criterion = gini\n",
        "        elif criterion == 'entropy':\n",
        "            self.criterion = entropy\n",
        "        \n",
        "        if max_depth is None:\n",
        "            self.max_depth = 1e9\n",
        "        else:\n",
        "            self.max_depth = max_depth\n",
        "\n",
        "        if max_features is None:\n",
        "            self.max_features = 7\n",
        "        else:\n",
        "            self.max_features = max_features\n",
        "\n",
        "        self.importance = {}\n",
        "\n",
        "        self.tree_root = None\n",
        "\n",
        "        self.pred = None\n",
        "\n",
        "    def thresh(self, data, sample_weight=None):\n",
        "        min_impurity = 1e9\n",
        "        threshold = 0\n",
        "        feature = 0\n",
        "        (tuples, features) = data.shape\n",
        "        #對每個feature做運算，找出可以到最小的impurity的feature及threshold\n",
        "        for i in range(features-1):\n",
        "            d_sorted = np.asarray(sorted(data, key=lambda t: t[i]))\n",
        "            for j in range(1, tuples):\n",
        "                thre = (d_sorted[j-1, i] + d_sorted[j, i]) / 2\n",
        "                #thre = round(thre, 4)\n",
        "                #根據feature及threshold把X分成兩邊\n",
        "                d_left = d_sorted[d_sorted[:, i] < thre]\n",
        "                d_right = d_sorted[d_sorted[:, i] >= thre]\n",
        "                #計算左右的impurity\n",
        "                im_left = self.criterion(d_left[:, -1])\n",
        "                im_right = self.criterion(d_right[:, -1])\n",
        "                #整體的impurity\n",
        "                impurity = im_left * len(d_left)\n",
        "                impurity += im_right * len(d_right)\n",
        "                impurity /= tuples\n",
        "\n",
        "                if impurity < min_impurity:\n",
        "                    min_impurity = impurity\n",
        "                    threshold = thre\n",
        "                    feature = i\n",
        "        \n",
        "        return feature, threshold\n",
        "\n",
        "    def build_tree(self, data, level, fid):\n",
        "        root = Tree()\n",
        "        if self.criterion(data[:, -1]) <= 0:\n",
        "            root.predict_class = data[0, -1]\n",
        "        elif level <= 0:\n",
        "            label, cnt = np.unique(data[:, -1], return_counts=True)\n",
        "            root.predict_class = label[np.argmax(cnt)]\n",
        "        else:\n",
        "            feature, thre = self.thresh(data)\n",
        "            self.importance[f'feature{fid[feature]+1}'] += 1\n",
        "            root.feature = fid[feature]\n",
        "            root.threshold = thre\n",
        "            d_left = data[data[:, feature] <= thre]\n",
        "            d_right = data[data[:, feature] > thre]\n",
        "            if len(d_left) == len(data) or len(d_left) == len(data):\n",
        "                label, cnt = np.unique(data[:, -1], return_counts=True)\n",
        "                root.predict_class = label[np.argmax(cnt)]\n",
        "            else:\n",
        "                root.left = self.build_tree(d_left, level-1, fid)\n",
        "                root.right = self.build_tree(d_right, level-1, fid)\n",
        "            \n",
        "        return root\n",
        "\n",
        "    def fit(self, X, y, sample_weight = None):\n",
        "        self.tree_root = Tree()\n",
        "        if self.max_features != 7:\n",
        "            #隨機選max_features個features\n",
        "            feature_index = np.random.choice(X.shape[1], self.max_features, replace=False)\n",
        "            X = X[:, feature_index]\n",
        "        else:\n",
        "            feature_index = np.arange(X.shape[1])\n",
        "        \n",
        "        self.importance = {f'feature{i+1}': 0 for i in feature_index}\n",
        "\n",
        "        data = np.concatenate((X, y), axis=1)\n",
        "        self.tree_root = self.build_tree(data, self.max_depth, feature_index)\n",
        "\n",
        "    def search(self, X, node):\n",
        "        #到leaf\n",
        "        if node.predict_class != None:\n",
        "            return node.predict_class\n",
        "        \n",
        "        if X[node.feature] < node.threshold:\n",
        "            return self.search(X, node.left)\n",
        "        else:\n",
        "            return self.search(X, node.right)\n",
        "\n",
        "    def predict(self, X):\n",
        "        self.pred = np.zeros(len(X), dtype=np.float64)\n",
        "        for i in range(len(X)):\n",
        "            self.pred[i] = self.search(X[i], self.tree_root)\n",
        "        return self.pred\n",
        "    \n",
        "    def countImportance(self):\n",
        "        sort_importance = sorted(self.importance.items(), key = lambda x: x[1])\n",
        "        sort_importance = dict(sort_importance)\n",
        "        plt.barh(list(sort_importance.keys()), list(sort_importance.values()), color='blue')\n",
        "         \n",
        "        pass"
      ]
    },
    {
      "cell_type": "code",
      "execution_count": 8,
      "metadata": {
        "id": "BE8wu0MGN_H-"
      },
      "outputs": [],
      "source": [
        "class RandomForest():\n",
        "    \"\"\"\n",
        "        You can add/change any variables/methods to meet your need.\n",
        "    \"\"\"\n",
        "    def __init__(self, n_estimators=10, max_features=None, boostrap=True, criterion='gini', max_depth=None):\n",
        "        \n",
        "        self.n_estimators = n_estimators\n",
        "        if max_features != None:\n",
        "            self.max_features = np.round(max_features).astype(np.int32)\n",
        "        else:\n",
        "            self.max_features = max_features\n",
        "        self.boostrap = boostrap\n",
        "        self.criterion = criterion\n",
        "        self.max_depth = max_depth\n",
        "\n",
        "        self.dt = []\n",
        "        \n",
        "    def fit(self, X, y):\n",
        "        #np.random.seed(seed)        \n",
        "        for i in range(self.n_estimators):            \n",
        "            if self.boostrap == True:\n",
        "                data_index = np.random.randint(low=0, high=X.shape[0], size=np.round(X.shape[0] * 2 / 3).astype(np.int32))\n",
        "                partial_x = X[data_index]\n",
        "                partial_y = y[data_index]\n",
        "            else:\n",
        "                partial_x = X\n",
        "                partial_y = y\n",
        "            #print(f'feature_index: {feature_index}, shape: {partial_feature.shape}, shape2: {partial_x.shape}')\n",
        "            #print(f'partial feature: {partial_feature.all()}, partial x: {partial_x.all()}')\n",
        "\n",
        "            T = DecisionTree(criterion=self.criterion, max_depth=self.max_depth, max_features=self.max_features)\n",
        "            T.fit(partial_x, partial_y)\n",
        "            self.dt.append(T)\n",
        "\n",
        "    def predict(self, X):\n",
        "        # majority vote\n",
        "        prediction = np.zeros((self.n_estimators, len(X)), dtype=np.float64)\n",
        "        vote = np.zeros(X.shape[0])\n",
        "        for i in range(self.n_estimators):\n",
        "            prediction[i] = (self.dt[i].predict(X))\n",
        "        \n",
        "        for j in range(X.shape[0]):\n",
        "            label, cnt = np.unique(prediction[:, j], return_counts=True)\n",
        "            vote[j] = label[np.argmax(cnt)]\n",
        "        return vote    "
      ]
    },
    {
      "cell_type": "markdown",
      "metadata": {
        "id": "RPUsaCh2T9Fs"
      },
      "source": [
        "# Questions for Decision Tree"
      ]
    },
    {
      "cell_type": "code",
      "execution_count": 9,
      "metadata": {
        "id": "zSB-Uqp4OaaX"
      },
      "outputs": [
        {
          "name": "stdout",
          "output_type": "stream",
          "text": [
            "['+' '+' '+' '+' '+' '-']: entropy = 0.6500224216483541\n",
            "['+' '+' '+' '-' '-' '-']: entropy = 1.0\n",
            "['+' '-' '-' '-' '-' '-']: entropy = 0.6500224216483541\n",
            "\n",
            "['+' '+' '+' '+' '+' '-']: gini index = 0.2777777777777777\n",
            "['+' '+' '+' '-' '-' '-']: gini index = 0.5\n",
            "['+' '-' '-' '-' '-' '-']: gini index = 0.2777777777777777\n",
            "\n"
          ]
        }
      ],
      "source": [
        "# For Q1\n",
        "\n",
        "ex1 = np.array([\"+\", \"+\", \"+\", \"+\", \"+\", \"-\"])\n",
        "ex2 = np.array([\"+\", \"+\", \"+\", \"-\", \"-\", \"-\"])\n",
        "ex3 = np.array([\"+\" ,\"-\", \"-\", \"-\", \"-\", \"-\"])\n",
        "\n",
        "print(f\"{ex1}: entropy = {entropy(ex1)}\\n{ex2}: entropy = {entropy(ex2)}\\n{ex3}: entropy = {entropy(ex3)}\\n\")\n",
        "print(f\"{ex1}: gini index = {gini(ex1)}\\n{ex2}: gini index = {gini(ex2)}\\n{ex3}: gini index = {gini(ex3)}\\n\")\n"
      ]
    },
    {
      "cell_type": "code",
      "execution_count": 10,
      "metadata": {},
      "outputs": [
        {
          "name": "stdout",
          "output_type": "stream",
          "text": [
            "Q2-1 max_depth=3:  0.73125\n"
          ]
        }
      ],
      "source": [
        "# For Q2-1, validation accuracy should be higher than or equal to 0.73\n",
        "\n",
        "np.random.seed(0) # You may adjust the seed number in all the cells\n",
        "\n",
        "dt_depth3 = DecisionTree(criterion='gini', max_features=None, max_depth=3)\n",
        "dt_depth3.fit(X_train, y_train, sample_weight=None)\n",
        "acc = accuracy_score(y_val, dt_depth3.predict(X_val))\n",
        "\n",
        "print(\"Q2-1 max_depth=3: \", acc)\n"
      ]
    },
    {
      "cell_type": "code",
      "execution_count": 11,
      "metadata": {},
      "outputs": [],
      "source": [
        "\"\"\" Do Not Modify Below \"\"\"\n",
        "\n",
        "from sklearn.tree import DecisionTreeClassifier as SK_DecisionTreeClassifier\n",
        "\n",
        "sk_dt = SK_DecisionTreeClassifier(criterion='gini', max_depth=3)\n",
        "sk_dt.fit(X_train, y_train)\n",
        "sk_acc = accuracy_score(y_val, sk_dt.predict(X_val))\n",
        "\n",
        "assert round(acc, 3) == round(sk_acc, 3), \"Because the Decision Tree without any trick has a fixed answer, your accuracy should be the same as sklearn, otherwise your implementation might have some problems\"\n"
      ]
    },
    {
      "cell_type": "code",
      "execution_count": 12,
      "metadata": {},
      "outputs": [
        {
          "name": "stdout",
          "output_type": "stream",
          "text": [
            "Q2-2 max_depth=10:  0.86375\n"
          ]
        }
      ],
      "source": [
        "# For Q2-2, validation accuracy should be higher than or equal to 0.85\n",
        "\n",
        "np.random.seed(0)\n",
        "\n",
        "dt_depth10 = DecisionTree(criterion='gini', max_features=None, max_depth=10)\n",
        "dt_depth10.fit(X_train, y_train, sample_weight=None)\n",
        "\n",
        "print(\"Q2-2 max_depth=10: \", accuracy_score(y_val,  dt_depth10.predict(X_val)))\n"
      ]
    },
    {
      "cell_type": "code",
      "execution_count": 13,
      "metadata": {},
      "outputs": [
        {
          "name": "stdout",
          "output_type": "stream",
          "text": [
            "Q3-1 criterion='gini':  0.73125\n"
          ]
        }
      ],
      "source": [
        "# For Q3-1, validation accuracy should be higher than or equal to 0.73\n",
        "\n",
        "np.random.seed(0)\n",
        "\n",
        "dt_gini = DecisionTree(criterion='gini', max_features=None, max_depth=3)\n",
        "dt_gini.fit(X_train, y_train, sample_weight=None)\n",
        "\n",
        "print(\"Q3-1 criterion='gini': \", accuracy_score(y_val, dt_gini.predict(X_val)))\n",
        "\n"
      ]
    },
    {
      "cell_type": "code",
      "execution_count": 14,
      "metadata": {},
      "outputs": [
        {
          "name": "stdout",
          "output_type": "stream",
          "text": [
            "Q3-2 criterion='entropy':  0.7725\n"
          ]
        }
      ],
      "source": [
        "# For Q3-2, validation accuracy should be higher than or equal to 0.77\n",
        "\n",
        "np.random.seed(0)\n",
        "\n",
        "dt_entropy = DecisionTree(criterion='entropy', max_features=None, max_depth=3)\n",
        "dt_entropy.fit(X_train, y_train, sample_weight=None)\n",
        "\n",
        "print(\"Q3-2 criterion='entropy': \", accuracy_score(y_val, dt_entropy.predict(X_val)))\n"
      ]
    },
    {
      "cell_type": "code",
      "execution_count": 15,
      "metadata": {},
      "outputs": [
        {
          "data": {
            "image/png": "[encoded data removed]",
            "text/plain": [
              "<Figure size 640x480 with 1 Axes>"
            ]
          },
          "metadata": {},
          "output_type": "display_data"
        }
      ],
      "source": [
        "# For Q4\n",
        "\n",
        "# Use simply counting to get the feature importance: dt_depth10.importance\n",
        "\n",
        "dt_depth10 = DecisionTree(criterion='gini', max_features=None, max_depth=10)\n",
        "dt_depth10.fit(X_train, y_train, sample_weight = None)\n",
        "\n",
        "labelList=['Feature1', 'Feature2', 'Feature3', 'Feature4', 'Feature5', 'Feature6', 'Feature7']\n",
        "dt_depth10.countImportance()\n",
        "plt.title('Feature Importance')\n",
        "\n",
        "plt.show()"
      ]
    },
    {
      "cell_type": "markdown",
      "metadata": {
        "id": "Wg97qz_xUGfP"
      },
      "source": [
        "# Questions for Random Rorest"
      ]
    },
    {
      "cell_type": "code",
      "execution_count": 16,
      "metadata": {
        "id": "SlrdIW1ERJ8F"
      },
      "outputs": [
        {
          "name": "stdout",
          "output_type": "stream",
          "text": [
            "Q6-1 n_estimators=10:  0.8825\n"
          ]
        }
      ],
      "source": [
        "# For Q6-1, validation accuracy should be higher than or equal to 0.88\n",
        "\n",
        "seed = 11\n",
        "np.random.seed(seed)\n",
        "\n",
        "rf_estimators10 = RandomForest(n_estimators=10, max_features=np.sqrt(X_train.shape[1]), boostrap=True, criterion='gini', max_depth=None)\n",
        "rf_estimators10.fit(X_train, y_train)\n",
        "\n",
        "print(\"Q6-1 n_estimators=10: \", accuracy_score(y_val, rf_estimators10.predict(X_val)))\n"
      ]
    },
    {
      "cell_type": "code",
      "execution_count": 17,
      "metadata": {
        "id": "4qcLuIkbRUfM"
      },
      "outputs": [
        {
          "name": "stdout",
          "output_type": "stream",
          "text": [
            "Q6-1 n_estimators=50:  0.89875\n"
          ]
        }
      ],
      "source": [
        "# For Q6-2, validation accuracy should be higher than or equal to 0.89\n",
        "seed = 20\n",
        "np.random.seed(seed)\n",
        "\n",
        "rf_estimators50 = RandomForest(n_estimators=50, max_features=np.sqrt(X_train.shape[1]), boostrap=True, criterion='gini', max_depth=None)\n",
        "rf_estimators50.fit(X_train, y_train)\n",
        "\n",
        "print(\"Q6-1 n_estimators=50: \", accuracy_score(y_val, rf_estimators50.predict(X_val)))"
      ]
    },
    {
      "cell_type": "code",
      "execution_count": 18,
      "metadata": {
        "id": "n-DbniYhRYmM"
      },
      "outputs": [
        {
          "name": "stdout",
          "output_type": "stream",
          "text": [
            "Q7-1 max_features='sqrt':  0.88375\n"
          ]
        }
      ],
      "source": [
        "# For Q7-1, validation accuracy should be higher than or equal to 0.88\n",
        "seed = 30\n",
        "np.random.seed(seed)\n",
        "\n",
        "rf_maxfeature_sqrt = RandomForest(n_estimators=10, max_features=np.sqrt(X_train.shape[1]), boostrap=True, criterion='gini', max_depth=None)\n",
        "rf_maxfeature_sqrt.fit(X_train, y_train)\n",
        "\n",
        "print(\"Q7-1 max_features='sqrt': \", accuracy_score(y_val,  rf_maxfeature_sqrt.predict(X_val)))"
      ]
    },
    {
      "cell_type": "code",
      "execution_count": 19,
      "metadata": {
        "id": "PF9yufSaRffn"
      },
      "outputs": [
        {
          "name": "stdout",
          "output_type": "stream",
          "text": [
            "Q7-2 max_features='All':  0.87875\n"
          ]
        }
      ],
      "source": [
        "# For Q7-2, validation accuracy should be higher than or equal to 0.86\n",
        "seed = 40\n",
        "np.random.seed(seed)\n",
        "\n",
        "rf_maxfeature_none = RandomForest(n_estimators=10, max_features=None, boostrap=True, criterion='gini', max_depth=None)\n",
        "rf_maxfeature_none.fit(X_train, y_train)\n",
        "\n",
        "print(\"Q7-2 max_features='All': \", accuracy_score(y_val, rf_maxfeature_none.predict(X_val)))"
      ]
    },
    {
      "cell_type": "markdown",
      "metadata": {
        "id": "UjopdAZqUKbF"
      },
      "source": [
        "# Train your own model"
      ]
    },
    {
      "cell_type": "code",
      "execution_count": 20,
      "metadata": {
        "id": "Va4L29gfUPO8"
      },
      "outputs": [
        {
          "name": "stdout",
          "output_type": "stream",
          "text": [
            "your_model:  0.90625\n"
          ]
        }
      ],
      "source": [
        "# Build and train your model\n",
        "#seed 54: 0.90625, n_estimators=28, max_features=4, boostrap=True, criterion='entropy', max_depth=25, (2/3)\n",
        "seed = 54\n",
        "np.random.seed(seed)\n",
        "your_model = RandomForest(n_estimators=28, max_features=4, boostrap=True, criterion='entropy', max_depth=25)\n",
        "your_model.fit(X_train, y_train)\n",
        "print(\"your_model: \", accuracy_score(y_val, your_model.predict(X_val)))\n",
        "    \n",
        "    "
      ]
    },
    {
      "cell_type": "code",
      "execution_count": 21,
      "metadata": {
        "id": "5cmxQjK3Rja9"
      },
      "outputs": [
        {
          "name": "stdout",
          "output_type": "stream",
          "text": [
            "test_pred shape:  (800,)\n"
          ]
        }
      ],
      "source": [
        "\n",
        "test_pred = your_model.predict(X_test)\n",
        "\n",
        "print(\"test_pred shape: \", test_pred.shape)"
      ]
    },
    {
      "cell_type": "code",
      "execution_count": 22,
      "metadata": {
        "id": "XCaZ4yFuR34B"
      },
      "outputs": [],
      "source": [
        "# output csv\n",
        "\n",
        "df_test = pd.DataFrame(pd.read_csv(\"./PR_HW3_Test.csv\"))\n",
        "df_test[\"Target\"] = test_pred\n",
        "df_test.to_csv(\"sample_output.csv\")\n"
      ]
    }
  ],
  "metadata": {
    "colab": {
      "collapsed_sections": [
        "YV1MHt_VTg9f"
      ],
      "provenance": []
    },
    "kernelspec": {
      "display_name": "Python 3",
      "name": "python3"
    },
    "language_info": {
      "codemirror_mode": {
        "name": "ipython",
        "version": 3
      },
      "file_extension": ".py",
      "mimetype": "text/x-python",
      "name": "python",
      "nbconvert_exporter": "python",
      "pygments_lexer": "ipython3",
      "version": "3.9.13"
    }
  },
  "nbformat": 4,
  "nbformat_minor": 0
}
