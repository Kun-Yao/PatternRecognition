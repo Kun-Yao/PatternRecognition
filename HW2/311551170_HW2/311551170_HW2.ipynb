{
  "cells": [
    {
      "cell_type": "code",
      "execution_count": 1,
      "metadata": {
        "id": "BMH5lm_PrhdD"
      },
      "outputs": [],
      "source": [
        "# Only these three packages are allowed\n",
        "import numpy as np\n",
        "import pandas as pd\n",
        "import matplotlib.pyplot as plt"
      ]
    },
    {
      "cell_type": "code",
      "execution_count": 2,
      "metadata": {
        "id": "0FQ7Z945rnF5"
      },
      "outputs": [],
      "source": [
        "class FLD:\n",
        "    def __init__(self):\n",
        "        \"\"\"\n",
        "            You can add/change any variables/methods to meet your need.\n",
        "        \"\"\"\n",
        "        self.mean_vectors = None\n",
        "        self.sw = None\n",
        "        self.sb = None\n",
        "        self.w = None\n",
        "        self.slope = None\n",
        "    def fit(self, X, y):\n",
        "        # Separate the data into three classes\n",
        "        C1 = X[y[:,0]==0]\n",
        "        C2 = X[y[:,0]==1]\n",
        "        C3 = X[y[:,0]==2]\n",
        "        # print(C3.shape)\n",
        "        \n",
        "        # Calculate the mean vectors of the three classes\n",
        "        m1 = np.mean(C1, axis=0)\n",
        "        m2 = np.mean(C2, axis=0)\n",
        "        m3 = np.mean(C3, axis=0)\n",
        "        self.mean_vectors = np.array([m1, m2, m3])\n",
        "        \n",
        "        # Compute the within-class scatter matrix self.sw\n",
        "        self.sw = np.zeros((X.shape[1], X.shape[1]))\n",
        "        self.sw += (C1-m1).T @ (C1-m1)\n",
        "        self.sw += (C2-m2).T @ (C2-m2)\n",
        "        self.sw += (C3-m3).T @ (C3-m3)\n",
        "        #print(\"sw\", self.sw.shape)\n",
        "\n",
        "        # Compute the between-class scatter matrix self.sb\n",
        "        self.sb = np.zeros((X.shape[1], X.shape[1]))\n",
        "        self.sb += C1.shape[0] * (m1 - np.mean(X, axis=0)) @ (m1 - np.mean(X, axis=0)).T\n",
        "        self.sb += C2.shape[0] * (m2 - np.mean(X, axis=0)) @ (m2 - np.mean(X, axis=0)).T\n",
        "        self.sb += C3.shape[0] * (m3 - np.mean(X, axis=0)) @ (m3 - np.mean(X, axis=0)).T\n",
        "        #print(\"sb\", self.sb.shape)\n",
        "\n",
        "        # Compute the eigenvalues and eigenvectors of self.sw^-1 * self.sb\n",
        "        sw_inv = np.linalg.inv(self.sw)\n",
        "        M = sw_inv @ self.sb\n",
        "        eigenvalues, eigenvectors = np.linalg.eig(M)\n",
        "        \n",
        "        indices = np.argmin(eigenvalues)\n",
        "        eigenvalues = eigenvalues[indices]\n",
        "        self.w = eigenvectors[indices]\n",
        "        #print(\"eigens\", eigenvalues.shape, eigenvectors.shape)\n",
        "        #print('w', self.w.shape)\n",
        "\n",
        "    def predict_using_class_mean(self, X, y, X_test):\n",
        "        proj_mean = self.mean_vectors @ self.w.reshape((-1, 1))\n",
        "        y_pred = X_test @ self.w.reshape((-1, 1))\n",
        "        d = np.ones((self.mean_vectors.shape[0], 1))\n",
        "        for i in range(len(y_pred)):\n",
        "            d[0] = (y_pred[i,0] - proj_mean[0]) ** 2\n",
        "            d[1] = (y_pred[i,0] - proj_mean[1]) ** 2\n",
        "            d[2] = (y_pred[i,0] - proj_mean[2]) ** 2\n",
        "            y_pred[i,0] = np.argmin(d, axis = 0)\n",
        "        # print(y_pred)\n",
        "        return y_pred\n",
        "\n",
        "    def predict_using_knn(self, X, y, X_test, k=1):\n",
        "        y_pred = X_test @ self.w.reshape((-1, 1))\n",
        "        proj_X = X @ self.w.reshape((-1,1))\n",
        "        dist = np.zeros((X.shape[0],1))\n",
        "        for i in range(X_test.shape[0]):\n",
        "            dist = (y_pred[i,0] - proj_X[:,0]) ** 2\n",
        "            dist = np.argsort(dist, axis = 0)\n",
        "            cnt = np.array([0,0,0])\n",
        "            for j in range(k):\n",
        "                cnt[y[dist[k], 0]] += 1\n",
        "            y_pred[i,0] = np.argmax(cnt)\n",
        "        # print(y_pred.reshape((1,-1)))\n",
        "        return y_pred\n",
        "\n",
        "    def show_confusion_matrix(self, y, y_pred):\n",
        "        m = np.zeros((3,3))\n",
        "        for i in range(y.shape[0]):\n",
        "            m[y[i,0], int(y_pred[i,0])] += 1\n",
        "        print(m)\n",
        "\n",
        "    def plot_projection(self, X, y):\n",
        "        C1 = X[y[:,0]==0]\n",
        "        C2 = X[y[:,0]==1]\n",
        "        C3 = X[y[:,0]==2]\n",
        "        proj = (X @ self.w).reshape((-1,1)) * self.w / (self.w @ self.w)\n",
        "        proj_c1 = proj[y[:,0] == 0]\n",
        "        proj_c2 = proj[y[:,0] == 1]\n",
        "        proj_c3 = proj[y[:,0] == 2]\n",
        "        print(proj_c2.shape)\n",
        "        \n",
        "        #space\n",
        "        up = np.max(proj[:, 0]) + 1\n",
        "        low = np.min(proj[:, 0]) - 1\n",
        "        x = [low, up]\n",
        "        slope = self.w[1] / self.w[0]\n",
        "        y = [slope*x[0], slope*x[1]]\n",
        "        \n",
        "        #line\n",
        "        plt.plot(x, y, lw=1, c='k')\n",
        "        \n",
        "        #data\n",
        "        plt.plot(C1[:,0], C1[:,1], 'r.', label=\"class 0\")\n",
        "        plt.plot(C2[:,0], C2[:,1], 'g.', label=\"class 1\")\n",
        "        plt.plot(C3[:,0], C3[:,1], 'b.', label=\"class 2\")\n",
        "        \n",
        "        #projected data\n",
        "        plt.plot(proj_c1[:,0], proj_c1[:,1], 'r.')\n",
        "        plt.plot(proj_c2[:,0], proj_c2[:,1], 'g.')\n",
        "        plt.plot(proj_c3[:,0], proj_c3[:,1], 'b.')\n",
        "        \n",
        "        for i in range(X.shape[0]):\n",
        "            plt.plot([X[i,0], proj[i,0]], [X[i,1], proj[i,1]], lw=0.1, c='pink')\n",
        "        \n",
        "        plt.title(\"Projection line: w={}, b=0\" .format(self.w))\n",
        "        plt.legend(loc=0)\n",
        "\n",
        "    def accuracy_score(self, y, y_pred):\n",
        "        cnt = 0\n",
        "        for i in range(y.shape[0]):\n",
        "            if y[i,0] == int(y_pred[i,0]):\n",
        "                cnt += 1\n",
        "        return cnt / y.shape[0]"
      ]
    },
    {
      "cell_type": "code",
      "execution_count": 3,
      "metadata": {
        "id": "fNjwTeUD2UAV"
      },
      "outputs": [],
      "source": [
        "class MultiClassLogisticRegression:\n",
        "    \n",
        "    def __init__(self):\n",
        "        \"\"\"\n",
        "            You can add/change any variables/methods to meet your need.\n",
        "        \"\"\"\n",
        "        self.epoch = []\n",
        "        self.train_loss = []\n",
        "        self.weights = None\n",
        "        self.EPS = 1e-7\n",
        "\n",
        "    def fit(self, X, y, batch_size=16, lr=0.001, epoch=100):\n",
        "        self.weights = np.random.randn(X.shape[1], 3)\n",
        "        self.bias = np.zeros(3)\n",
        "           \n",
        "        y = y.astype(int)\n",
        "        one_hot = np.zeros((y.shape[0], 3))\n",
        "        one_hot[range(y.shape[0]), y[:,0]] = 1\n",
        "        for i in range(epoch):           \n",
        "            for j in range(len(X)//batch_size): \n",
        "                start = j * batch_size\n",
        "                end = start + batch_size\n",
        "                \n",
        "                linear = X[start:end] @ self.weights\n",
        "                pred = self.softmax(linear)\n",
        "                \n",
        "                error = (pred - one_hot[start:end]) / y[start:end].shape[0]\n",
        "                grad_weights = X[start:end].transpose() @ error\n",
        "                \n",
        "                self.weights -= grad_weights * lr\n",
        "                \n",
        "                \n",
        "            probs, y_hat = self.predict(X)\n",
        "            self.train_loss.append(self.cross_entropy(y, probs))\n",
        "            self.epoch.append(i)\n",
        "            if self.train_loss[-1] < 0.7:\n",
        "                lr = min(lr, 0.9)\n",
        "            elif self.train_loss[-1] < 0.5:\n",
        "                break\n",
        "\n",
        "            if i%500 == 0:\n",
        "                print(f'epoch: {i} loss = {self.train_loss[i]}')\n",
        "\n",
        "    def predict(self, X):\n",
        "        probs = self.softmax(X @ self.weights)\n",
        "        y_hat = np.argmax(probs, axis=1).reshape((-1, 1))\n",
        "        return probs, y_hat\n",
        "        #pass\n",
        "\n",
        "    def evaluate(self, X, y):\n",
        "        probs, y_hat = self.predict(X)\n",
        "        return self.accuracy_score(y, y_hat)\n",
        "\n",
        "    def softmax(self, z):\n",
        "        Max = np.max(z,axis=1,keepdims=True) #returns max of each row and keeps same dims\n",
        "        e_x = np.exp(z - Max) #subtracts each row with its max value\n",
        "        Sum = np.sum(e_x,axis=1,keepdims=True) #returns sum of each row and keeps same dims\n",
        "        f_x = e_x / Sum \n",
        "        return f_x\n",
        "\n",
        "    def cross_entropy(self, y, probs):\n",
        "        loss = (-1/y.shape[0]) * np.sum(np.log(probs[range(y.shape[0]), y[:,0]]))\n",
        "        return loss\n",
        "    \n",
        "    def accuracy_score(self, y, y_pred):\n",
        "        acc = 0.0\n",
        "        for i in range(y.shape[0]):\n",
        "            if int(y[i,0]) == int(y_pred[i]):\n",
        "                acc += 1\n",
        "        return acc / y.shape[0]\n",
        "\n",
        "    def show_confusion_matrix(self, X, y):\n",
        "        probs, y_hat = self.predict(X)\n",
        "        y = y.astype(int)\n",
        "        m = np.zeros((3,3))\n",
        "        for i in range(len(y)):\n",
        "            m[y[i,0], y_hat[i]] += 1\n",
        "        \n",
        "        print(m)\n",
        "\n",
        "    def plot_curve(self):\n",
        "        plt.plot(self.epoch, self.train_loss)\n",
        "        plt.show()"
      ]
    },
    {
      "cell_type": "markdown",
      "metadata": {
        "id": "tW-wMhSw8fT8"
      },
      "source": [
        "# Prepare data for Q1 ~ Q12"
      ]
    },
    {
      "cell_type": "code",
      "execution_count": 4,
      "metadata": {
        "id": "k43aGfaQ7TsP"
      },
      "outputs": [],
      "source": [
        "df_train = pd.DataFrame(pd.read_csv(\"./PR_HW2_blob_train.csv\"))\n",
        "df_test  = pd.DataFrame(pd.read_csv(\"./PR_HW2_blob_test.csv\"))"
      ]
    },
    {
      "cell_type": "code",
      "execution_count": 5,
      "metadata": {
        "id": "2RqHvQCu76Yn"
      },
      "outputs": [
        {
          "name": "stdout",
          "output_type": "stream",
          "text": [
            "X_train (1000, 2)\n",
            "y_train (1000, 1)\n",
            "X_test (1000, 2)\n",
            "y_test (1000, 1)\n"
          ]
        }
      ],
      "source": [
        "X_train = df_train[['Feature1', 'Feature2']].to_numpy()\n",
        "y_train = df_train[['Target']].to_numpy()\n",
        "\n",
        "X_test = df_test[['Feature1', 'Feature2']].to_numpy()\n",
        "y_test = df_test[['Target']].to_numpy()\n",
        "\n",
        "print(\"X_train\", X_train.shape)\n",
        "print(\"y_train\", y_train.shape)\n",
        "print(\"X_test\",  X_test.shape)\n",
        "print(\"y_test\",  y_test.shape)"
      ]
    },
    {
      "cell_type": "markdown",
      "metadata": {
        "id": "E_HKrHzE8_Sy"
      },
      "source": [
        "# MultiClass Logistic Regression"
      ]
    },
    {
      "cell_type": "code",
      "execution_count": 6,
      "metadata": {
        "id": "xN1uUlEC9FqA"
      },
      "outputs": [
        {
          "name": "stdout",
          "output_type": "stream",
          "text": [
            "epoch: 0 loss = 0.7624237477129939\n",
            "epoch: 500 loss = 0.2487372723900971\n",
            "epoch: 1000 loss = 0.24776667992921575\n",
            "epoch: 1500 loss = 0.24754196767303333\n",
            "epoch: 2000 loss = 0.24744000776994318\n",
            "epoch: 2500 loss = 0.24738113810052403\n",
            "epoch: 3000 loss = 0.24734262449760577\n",
            "epoch: 3500 loss = 0.24731538917891385\n",
            "epoch: 4000 loss = 0.24729507172633924\n",
            "epoch: 4500 loss = 0.24727931076894571\n",
            "epoch: 5000 loss = 0.24726671387558213\n",
            "epoch: 5500 loss = 0.24725640578244104\n",
            "epoch: 6000 loss = 0.24724780816912323\n",
            "epoch: 6500 loss = 0.2472405232896167\n",
            "epoch: 7000 loss = 0.24723426842782492\n",
            "epoch: 7500 loss = 0.24722883701235784\n",
            "epoch: 8000 loss = 0.24722407453063655\n",
            "epoch: 8500 loss = 0.24721986305628632\n",
            "epoch: 9000 loss = 0.24721611099456953\n",
            "epoch: 9500 loss = 0.24721274609978844\n"
          ]
        }
      ],
      "source": [
        "# For Q1\n",
        "lr = 0.003\n",
        "batch_size = 50\n",
        "epoch = 10000\n",
        "\n",
        "logistic_reg = MultiClassLogisticRegression()\n",
        "logistic_reg.fit(X_train, y_train, lr=lr, batch_size=batch_size, epoch=epoch)\n"
      ]
    },
    {
      "cell_type": "code",
      "execution_count": 7,
      "metadata": {
        "id": "R_Y8kIlQ9Jcz"
      },
      "outputs": [
        {
          "name": "stdout",
          "output_type": "stream",
          "text": [
            "Training acc:  0.895\n"
          ]
        }
      ],
      "source": [
        "# For Q2\n",
        "print('Training acc: ', logistic_reg.evaluate(X_train, y_train))"
      ]
    },
    {
      "cell_type": "code",
      "execution_count": 8,
      "metadata": {
        "id": "TzqioRVD9Jgn"
      },
      "outputs": [
        {
          "name": "stdout",
          "output_type": "stream",
          "text": [
            "Testing acc:  0.884\n"
          ]
        }
      ],
      "source": [
        "# For Q3\n",
        "print('Testing acc: ', logistic_reg.evaluate(X_test, y_test))"
      ]
    },
    {
      "cell_type": "code",
      "execution_count": 9,
      "metadata": {
        "id": "B_BSVWmM9JkX"
      },
      "outputs": [
        {
          "data": {
            "image/png": "[encoded data removed]",
            "text/plain": [
              "<Figure size 432x288 with 1 Axes>"
            ]
          },
          "metadata": {
            "needs_background": "light"
          },
          "output_type": "display_data"
        }
      ],
      "source": [
        "# For Q4\n",
        "logistic_reg.plot_curve()"
      ]
    },
    {
      "cell_type": "code",
      "execution_count": 10,
      "metadata": {
        "id": "r8tAlAPc9JoP"
      },
      "outputs": [
        {
          "name": "stdout",
          "output_type": "stream",
          "text": [
            "[[283.   0.  57.]\n",
            " [  0. 333.   0.]\n",
            " [ 59.   0. 268.]]\n"
          ]
        }
      ],
      "source": [
        "# For Q5\n",
        "logistic_reg.show_confusion_matrix(X_test, y_test)"
      ]
    },
    {
      "cell_type": "markdown",
      "metadata": {
        "id": "njoLZK84-sv3"
      },
      "source": [
        "# Fisher's Linear Discriminant Analysis"
      ]
    },
    {
      "cell_type": "code",
      "execution_count": 11,
      "metadata": {
        "id": "i-uhvrbe2mNe"
      },
      "outputs": [],
      "source": [
        "fld = FLD()\n",
        "\n",
        "fld.fit(X_train, y_train)"
      ]
    },
    {
      "cell_type": "code",
      "execution_count": 12,
      "metadata": {
        "id": "t95-qsEl2nl_"
      },
      "outputs": [
        {
          "name": "stdout",
          "output_type": "stream",
          "text": [
            "Class mean vector:  [[-4.17505764  6.35526804]\n",
            " [-9.43385176 -4.87830741]\n",
            " [-2.54454008  7.53144179]]\n"
          ]
        }
      ],
      "source": [
        "# For Q6\n",
        "print(\"Class mean vector: \", fld.mean_vectors)"
      ]
    },
    {
      "cell_type": "code",
      "execution_count": 13,
      "metadata": {
        "id": "czRrdHxV2olM"
      },
      "outputs": [
        {
          "name": "stdout",
          "output_type": "stream",
          "text": [
            "Within-class scatter matrix SW:  [[1052.70745046  -12.5828441 ]\n",
            " [ -12.5828441   971.29686189]]\n"
          ]
        }
      ],
      "source": [
        "# For Q7\n",
        "print(\"Within-class scatter matrix SW: \", fld.sw)"
      ]
    },
    {
      "cell_type": "code",
      "execution_count": 14,
      "metadata": {
        "id": "oETHjp4Y2oqg"
      },
      "outputs": [
        {
          "name": "stdout",
          "output_type": "stream",
          "text": [
            "Between-class scatter matrix SB:  [[40062.06856449 40062.06856449]\n",
            " [40062.06856449 40062.06856449]]\n"
          ]
        }
      ],
      "source": [
        "# For Q8\n",
        "print(\"Between-class scatter matrix SB: \", fld.sb)"
      ]
    },
    {
      "cell_type": "code",
      "execution_count": 15,
      "metadata": {
        "id": "dRytOEMl2otd"
      },
      "outputs": [
        {
          "name": "stdout",
          "output_type": "stream",
          "text": [
            "W:  [-0.70710678 -0.67847921]\n"
          ]
        }
      ],
      "source": [
        "# For Q9\n",
        "print(\"W: \", fld.w)"
      ]
    },
    {
      "cell_type": "code",
      "execution_count": 16,
      "metadata": {
        "id": "Q9XMtITV2owM"
      },
      "outputs": [
        {
          "name": "stdout",
          "output_type": "stream",
          "text": [
            "FLD using class mean, accuracy:  0.886\n",
            "[[281.   0.  59.]\n",
            " [  0. 333.   0.]\n",
            " [ 55.   0. 272.]]\n"
          ]
        }
      ],
      "source": [
        "# For Q10\n",
        "y_pred = fld.predict_using_class_mean(X_train, y_train, X_test)\n",
        "print(\"FLD using class mean, accuracy: \", fld.accuracy_score(y_test, y_pred))\n",
        "\n",
        "fld.show_confusion_matrix(y_test, y_pred)"
      ]
    },
    {
      "cell_type": "code",
      "execution_count": 17,
      "metadata": {
        "id": "7mmAB2BZ2oy5"
      },
      "outputs": [
        {
          "name": "stdout",
          "output_type": "stream",
          "text": [
            "FLD using knn (k=1), accuracy:  0.839\n",
            "FLD using knn (k=2), accuracy:  0.861\n",
            "FLD using knn (k=3), accuracy:  0.826\n",
            "FLD using knn (k=4), accuracy:  0.837\n",
            "FLD using knn (k=5), accuracy:  0.843\n"
          ]
        }
      ],
      "source": [
        "# For Q11\n",
        "y_pred_k1 = fld.predict_using_knn(X_train, y_train, X_test, k=1)\n",
        "print(\"FLD using knn (k=1), accuracy: \", fld.accuracy_score(y_test, y_pred_k1))\n",
        "\n",
        "y_pred_k2 = fld.predict_using_knn(X_train, y_train, X_test, k=2)\n",
        "print(\"FLD using knn (k=2), accuracy: \", fld.accuracy_score(y_test, y_pred_k2))\n",
        "\n",
        "y_pred_k3 = fld.predict_using_knn(X_train, y_train, X_test, k=3)\n",
        "print(\"FLD using knn (k=3), accuracy: \", fld.accuracy_score(y_test, y_pred_k3))\n",
        "\n",
        "y_pred_k4 = fld.predict_using_knn(X_train, y_train, X_test, k=4)\n",
        "print(\"FLD using knn (k=4), accuracy: \", fld.accuracy_score(y_test, y_pred_k4))\n",
        "\n",
        "y_pred_k5 = fld.predict_using_knn(X_train, y_train, X_test, k=5)\n",
        "print(\"FLD using knn (k=5), accuracy: \", fld.accuracy_score(y_test, y_pred_k5))"
      ]
    },
    {
      "cell_type": "code",
      "execution_count": 18,
      "metadata": {
        "id": "uAaGRQkg2o1e"
      },
      "outputs": [
        {
          "name": "stdout",
          "output_type": "stream",
          "text": [
            "(334, 2)\n"
          ]
        },
        {
          "data": {
            "image/png": "[encoded data removed]",
            "text/plain": [
              "<Figure size 432x288 with 1 Axes>"
            ]
          },
          "metadata": {
            "needs_background": "light"
          },
          "output_type": "display_data"
        }
      ],
      "source": [
        "# For Q12, using only training data\n",
        "fld.plot_projection(X_train, y_train)"
      ]
    },
    {
      "cell_type": "markdown",
      "metadata": {
        "id": "PDeFV2_uAoL_"
      },
      "source": [
        "# Train your own model on provided dataset.\n",
        "You can only using 1) **Fisher's Linear Discriminant** or 2) **Logistic Regression** that you have implemented above."
      ]
    },
    {
      "cell_type": "code",
      "execution_count": 19,
      "metadata": {
        "id": "0GkkThFyBTN3"
      },
      "outputs": [],
      "source": [
        "df_train = pd.DataFrame(pd.read_csv(\"./PR_HW2_train.csv\"))\n",
        "df_val   = pd.DataFrame(pd.read_csv(\"./PR_HW2_val.csv\"))\n",
        "df_test  = pd.DataFrame(pd.read_csv(\"./PR_HW2_test.csv\"))"
      ]
    },
    {
      "cell_type": "code",
      "execution_count": 20,
      "metadata": {
        "id": "6Si9iL-0BWQS"
      },
      "outputs": [
        {
          "data": {
            "text/html": [
              "<div>\n",
              "<style scoped>\n",
              "    .dataframe tbody tr th:only-of-type {\n",
              "        vertical-align: middle;\n",
              "    }\n",
              "\n",
              "    .dataframe tbody tr th {\n",
              "        vertical-align: top;\n",
              "    }\n",
              "\n",
              "    .dataframe thead th {\n",
              "        text-align: right;\n",
              "    }\n",
              "</style>\n",
              "<table border=\"1\" class=\"dataframe\">\n",
              "  <thead>\n",
              "    <tr style=\"text-align: right;\">\n",
              "      <th></th>\n",
              "      <th>Feature1</th>\n",
              "      <th>Feature2</th>\n",
              "      <th>Feature3</th>\n",
              "      <th>Feature4</th>\n",
              "      <th>Target</th>\n",
              "    </tr>\n",
              "  </thead>\n",
              "  <tbody>\n",
              "    <tr>\n",
              "      <th>0</th>\n",
              "      <td>0.00668</td>\n",
              "      <td>0.00192</td>\n",
              "      <td>0.682</td>\n",
              "      <td>0.996</td>\n",
              "      <td>2.0</td>\n",
              "    </tr>\n",
              "    <tr>\n",
              "      <th>1</th>\n",
              "      <td>0.00680</td>\n",
              "      <td>0.00106</td>\n",
              "      <td>0.503</td>\n",
              "      <td>0.996</td>\n",
              "      <td>1.0</td>\n",
              "    </tr>\n",
              "    <tr>\n",
              "      <th>2</th>\n",
              "      <td>0.00742</td>\n",
              "      <td>0.00106</td>\n",
              "      <td>0.482</td>\n",
              "      <td>0.991</td>\n",
              "      <td>1.0</td>\n",
              "    </tr>\n",
              "    <tr>\n",
              "      <th>3</th>\n",
              "      <td>0.00685</td>\n",
              "      <td>0.00178</td>\n",
              "      <td>0.650</td>\n",
              "      <td>0.998</td>\n",
              "      <td>2.0</td>\n",
              "    </tr>\n",
              "    <tr>\n",
              "      <th>4</th>\n",
              "      <td>0.00680</td>\n",
              "      <td>0.00163</td>\n",
              "      <td>0.623</td>\n",
              "      <td>0.996</td>\n",
              "      <td>2.0</td>\n",
              "    </tr>\n",
              "  </tbody>\n",
              "</table>\n",
              "</div>"
            ],
            "text/plain": [
              "   Feature1  Feature2  Feature3  Feature4  Target\n",
              "0   0.00668   0.00192     0.682     0.996     2.0\n",
              "1   0.00680   0.00106     0.503     0.996     1.0\n",
              "2   0.00742   0.00106     0.482     0.991     1.0\n",
              "3   0.00685   0.00178     0.650     0.998     2.0\n",
              "4   0.00680   0.00163     0.623     0.996     2.0"
            ]
          },
          "execution_count": 20,
          "metadata": {},
          "output_type": "execute_result"
        }
      ],
      "source": [
        "df_train.head()"
      ]
    },
    {
      "cell_type": "code",
      "execution_count": 21,
      "metadata": {
        "id": "qw1B1bIkBdN4"
      },
      "outputs": [
        {
          "data": {
            "text/html": [
              "<div>\n",
              "<style scoped>\n",
              "    .dataframe tbody tr th:only-of-type {\n",
              "        vertical-align: middle;\n",
              "    }\n",
              "\n",
              "    .dataframe tbody tr th {\n",
              "        vertical-align: top;\n",
              "    }\n",
              "\n",
              "    .dataframe thead th {\n",
              "        text-align: right;\n",
              "    }\n",
              "</style>\n",
              "<table border=\"1\" class=\"dataframe\">\n",
              "  <thead>\n",
              "    <tr style=\"text-align: right;\">\n",
              "      <th></th>\n",
              "      <th>Feature1</th>\n",
              "      <th>Feature2</th>\n",
              "      <th>Feature3</th>\n",
              "      <th>Feature4</th>\n",
              "      <th>Target</th>\n",
              "    </tr>\n",
              "  </thead>\n",
              "  <tbody>\n",
              "    <tr>\n",
              "      <th>0</th>\n",
              "      <td>0.00699</td>\n",
              "      <td>0.000877</td>\n",
              "      <td>0.451</td>\n",
              "      <td>0.994</td>\n",
              "      <td>NaN</td>\n",
              "    </tr>\n",
              "    <tr>\n",
              "      <th>1</th>\n",
              "      <td>0.00736</td>\n",
              "      <td>0.001370</td>\n",
              "      <td>0.549</td>\n",
              "      <td>0.998</td>\n",
              "      <td>NaN</td>\n",
              "    </tr>\n",
              "    <tr>\n",
              "      <th>2</th>\n",
              "      <td>0.00687</td>\n",
              "      <td>0.001420</td>\n",
              "      <td>0.580</td>\n",
              "      <td>0.992</td>\n",
              "      <td>NaN</td>\n",
              "    </tr>\n",
              "    <tr>\n",
              "      <th>3</th>\n",
              "      <td>0.00752</td>\n",
              "      <td>0.002520</td>\n",
              "      <td>0.737</td>\n",
              "      <td>0.996</td>\n",
              "      <td>NaN</td>\n",
              "    </tr>\n",
              "    <tr>\n",
              "      <th>4</th>\n",
              "      <td>0.00685</td>\n",
              "      <td>0.000910</td>\n",
              "      <td>0.464</td>\n",
              "      <td>0.992</td>\n",
              "      <td>NaN</td>\n",
              "    </tr>\n",
              "  </tbody>\n",
              "</table>\n",
              "</div>"
            ],
            "text/plain": [
              "   Feature1  Feature2  Feature3  Feature4  Target\n",
              "0   0.00699  0.000877     0.451     0.994     NaN\n",
              "1   0.00736  0.001370     0.549     0.998     NaN\n",
              "2   0.00687  0.001420     0.580     0.992     NaN\n",
              "3   0.00752  0.002520     0.737     0.996     NaN\n",
              "4   0.00685  0.000910     0.464     0.992     NaN"
            ]
          },
          "execution_count": 21,
          "metadata": {},
          "output_type": "execute_result"
        }
      ],
      "source": [
        "df_test.head()"
      ]
    },
    {
      "cell_type": "code",
      "execution_count": 22,
      "metadata": {
        "id": "tDeQjZsuDagp"
      },
      "outputs": [
        {
          "name": "stdout",
          "output_type": "stream",
          "text": [
            "X_train (1703, 4)\n",
            "y_train (1703, 1)\n",
            "X_val (730, 4)\n",
            "y_val (730, 1)\n",
            "X_test (5677, 4)\n"
          ]
        }
      ],
      "source": [
        "# Data processing\n",
        "X_train = df_train[['Feature1', 'Feature2', 'Feature3', 'Feature4']].to_numpy()\n",
        "y_train = df_train[['Target']].to_numpy()\n",
        "\n",
        "X_val = df_val[['Feature1', 'Feature2', 'Feature3', 'Feature4']].to_numpy()\n",
        "y_val = df_val[['Target']].to_numpy()\n",
        "\n",
        "X_test = df_test[['Feature1', 'Feature2', 'Feature3', 'Feature4']].to_numpy()\n",
        "\n",
        "X_train[:,:2] = (X_train[:,:2] * 100) ** 2\n",
        "X_train[:,:-2] = (X_train[:,:-2] * 10) ** 2\n",
        "\n",
        "X_val[:,:2] = (X_val[:,:2] * 100) ** 2\n",
        "X_val[:,:-2] = (X_val[:,:-2] * 10) ** 2\n",
        "\n",
        "X_test[:,:2] = (X_test[:,:2] * 100) ** 2\n",
        "\n",
        "print(\"X_train\", X_train.shape)\n",
        "print(\"y_train\", y_train.shape)\n",
        "print(\"X_val\",  X_val.shape)\n",
        "print(\"y_val\",  y_val.shape)\n",
        "print(\"X_test\", X_test.shape)\n",
        "\n",
        "# Refer to section \"Prepare data for Q1 ~ Q12\""
      ]
    },
    {
      "cell_type": "code",
      "execution_count": 23,
      "metadata": {
        "id": "p9vEErR9Bf_a"
      },
      "outputs": [
        {
          "name": "stdout",
          "output_type": "stream",
          "text": [
            "epoch: 0 loss = 5.495142304630692\n",
            "epoch: 500 loss = 0.613559460123901\n",
            "epoch: 1000 loss = 0.48186215919888714\n",
            "epoch: 1500 loss = 0.41986509311349124\n",
            "epoch: 2000 loss = 0.3804698041813054\n",
            "epoch: 2500 loss = 0.3579154945087015\n",
            "epoch: 3000 loss = 0.3445970053335733\n",
            "epoch: 3500 loss = 0.33617948780967416\n",
            "epoch: 4000 loss = 0.3304619896415405\n",
            "epoch: 4500 loss = 0.32632320367360684\n",
            "epoch: 5000 loss = 0.323169798520455\n",
            "epoch: 5500 loss = 0.32067093986371165\n",
            "epoch: 6000 loss = 0.3186314231756011\n",
            "epoch: 6500 loss = 0.3169294803657996\n",
            "epoch: 7000 loss = 0.3154850881707024\n",
            "epoch: 7500 loss = 0.3142431189495408\n",
            "epoch: 8000 loss = 0.3131639953854049\n",
            "epoch: 8500 loss = 0.312218289722669\n",
            "epoch: 9000 loss = 0.3113834754693512\n",
            "epoch: 9500 loss = 0.31064189608836573\n",
            "epoch: 10000 loss = 0.30997944571902514\n",
            "epoch: 10500 loss = 0.3093846807698854\n",
            "epoch: 11000 loss = 0.30884820115083145\n",
            "epoch: 11500 loss = 0.30836220596768643\n",
            "epoch: 12000 loss = 0.307920165831963\n",
            "epoch: 12500 loss = 0.3075165755682354\n",
            "epoch: 13000 loss = 0.3071467639542467\n",
            "epoch: 13500 loss = 0.30680674496676785\n",
            "epoch: 14000 loss = 0.30649309991508045\n",
            "epoch: 14500 loss = 0.30620288300374543\n",
            "epoch: 15000 loss = 0.305933544956317\n",
            "epoch: 15500 loss = 0.3056828707515068\n",
            "epoch: 16000 loss = 0.3054489285125403\n",
            "epoch: 16500 loss = 0.3052300272958452\n",
            "epoch: 17000 loss = 0.30502468203898003\n",
            "epoch: 17500 loss = 0.30483158430873314\n",
            "epoch: 18000 loss = 0.304649577777502\n",
            "epoch: 18500 loss = 0.3044776375755213\n",
            "epoch: 19000 loss = 0.30431485283611776\n",
            "epoch: 19500 loss = 0.30416041188357357\n",
            "epoch: 20000 loss = 0.304013589617436\n",
            "epoch: 20500 loss = 0.30387373672982004\n",
            "epoch: 21000 loss = 0.3037402704582227\n",
            "epoch: 21500 loss = 0.3036126666293509\n",
            "epoch: 22000 loss = 0.3034904527922132\n",
            "epoch: 22500 loss = 0.3033732022733595\n",
            "epoch: 23000 loss = 0.3032605290153349\n",
            "epoch: 23500 loss = 0.3031520830824617\n",
            "epoch: 24000 loss = 0.30304754673696077\n",
            "epoch: 24500 loss = 0.30294663100397473\n",
            "epoch: 25000 loss = 0.30284907265686895\n",
            "epoch: 25500 loss = 0.30275463156488025\n",
            "epoch: 26000 loss = 0.3026630883539953\n",
            "epoch: 26500 loss = 0.3025742423392919\n",
            "epoch: 27000 loss = 0.30248790969323647\n",
            "epoch: 27500 loss = 0.30240392181946674\n",
            "epoch: 28000 loss = 0.3023221239060681\n",
            "epoch: 28500 loss = 0.30224237363593864\n",
            "epoch: 29000 loss = 0.3021645400349793\n",
            "epoch: 29500 loss = 0.30208850244146657\n",
            "epoch: 30000 loss = 0.3020141495821974\n",
            "epoch: 30500 loss = 0.3019413787429197\n",
            "epoch: 31000 loss = 0.30187009502217055\n",
            "epoch: 31500 loss = 0.3018002106590595\n",
            "epoch: 32000 loss = 0.30173164442673117\n",
            "epoch: 32500 loss = 0.30166432108424024\n",
            "epoch: 33000 loss = 0.3015981708805286\n",
            "epoch: 33500 loss = 0.3015331291048893\n",
            "epoch: 34000 loss = 0.3014691356790349\n",
            "epoch: 34500 loss = 0.30140613478640305\n",
            "epoch: 35000 loss = 0.3013440745349016\n",
            "epoch: 35500 loss = 0.30128290664967616\n",
            "epoch: 36000 loss = 0.30122258619291814\n",
            "epoch: 36500 loss = 0.3011630713080093\n",
            "epoch: 37000 loss = 0.3011043229856535\n",
            "epoch: 37500 loss = 0.3010463048498691\n",
            "epoch: 38000 loss = 0.30098898296194626\n",
            "epoch: 38500 loss = 0.30093232564067324\n",
            "epoch: 39000 loss = 0.30087630329733606\n",
            "epoch: 39500 loss = 0.30082088828412035\n",
            "epoch: 40000 loss = 0.3007660547546993\n",
            "epoch: 40500 loss = 0.30071177853592823\n",
            "epoch: 41000 loss = 0.300658037009619\n",
            "epoch: 41500 loss = 0.30060480900356784\n",
            "epoch: 42000 loss = 0.3005520746909823\n",
            "epoch: 42500 loss = 0.3004998154975971\n",
            "epoch: 43000 loss = 0.3004480140158452\n",
            "epoch: 43500 loss = 0.3003966539254722\n",
            "epoch: 44000 loss = 0.30034571992004555\n",
            "epoch: 44500 loss = 0.3002951976388939\n",
            "epoch: 45000 loss = 0.30024507360403363\n",
            "epoch: 45500 loss = 0.30019533516164876\n",
            "epoch: 46000 loss = 0.3001459704277952\n",
            "epoch: 46500 loss = 0.3000969682379736\n",
            "epoch: 47000 loss = 0.3000483181002617\n",
            "epoch: 47500 loss = 0.30000001015175054\n",
            "epoch: 48000 loss = 0.29995203511800644\n",
            "epoch: 48500 loss = 0.2999043842753387\n",
            "epoch: 49000 loss = 0.29985704941565716\n",
            "epoch: 49500 loss = 0.2998100228137114\n",
            "epoch: 50000 loss = 0.29976329719658534\n",
            "epoch: 50500 loss = 0.2997168657151841\n",
            "epoch: 51000 loss = 0.2996707219176765\n",
            "epoch: 51500 loss = 0.2996248597246643\n",
            "epoch: 52000 loss = 0.299579273406001\n",
            "epoch: 52500 loss = 0.299533957559128\n",
            "epoch: 53000 loss = 0.299488907088816\n",
            "epoch: 53500 loss = 0.29944411718821545\n",
            "epoch: 54000 loss = 0.2993995833211279\n",
            "epoch: 54500 loss = 0.2993553012054187\n",
            "epoch: 55000 loss = 0.29931126679745507\n",
            "epoch: 55500 loss = 0.2992674762775723\n",
            "epoch: 56000 loss = 0.29922392603640935\n",
            "epoch: 56500 loss = 0.2991806126621294\n",
            "epoch: 57000 loss = 0.29913753292842415\n",
            "epoch: 57500 loss = 0.29909468378325804\n",
            "epoch: 58000 loss = 0.29905206233831566\n",
            "epoch: 58500 loss = 0.29900966585909483\n",
            "epoch: 59000 loss = 0.298967491755593\n",
            "epoch: 59500 loss = 0.29892553757358076\n",
            "epoch: 60000 loss = 0.2988838009863783\n",
            "epoch: 60500 loss = 0.2988422797871608\n",
            "epoch: 61000 loss = 0.2988009718816947\n",
            "epoch: 61500 loss = 0.298759875281528\n",
            "epoch: 62000 loss = 0.2987189880975822\n",
            "epoch: 62500 loss = 0.298678308534126\n",
            "epoch: 63000 loss = 0.29863783488310724\n",
            "epoch: 63500 loss = 0.29859756551881195\n",
            "epoch: 64000 loss = 0.2985574988928538\n",
            "epoch: 64500 loss = 0.2985176335294451\n",
            "epoch: 65000 loss = 0.2984779680209492\n",
            "epoch: 65500 loss = 0.29843850102369796\n",
            "epoch: 66000 loss = 0.298399231254046\n",
            "epoch: 66500 loss = 0.2983601574846584\n",
            "epoch: 67000 loss = 0.2983212785410173\n",
            "epoch: 67500 loss = 0.2982825932981229\n",
            "epoch: 68000 loss = 0.2982441006774027\n",
            "epoch: 68500 loss = 0.2982057996437752\n",
            "epoch: 69000 loss = 0.298167689202903\n",
            "epoch: 69500 loss = 0.2981297683986051\n",
            "epoch: 70000 loss = 0.2980920363103991\n",
            "epoch: 70500 loss = 0.2980544920512104\n",
            "epoch: 71000 loss = 0.2980171347652016\n",
            "epoch: 71500 loss = 0.2979799636257175\n",
            "epoch: 72000 loss = 0.297942977833368\n",
            "epoch: 72500 loss = 0.297906176614214\n",
            "epoch: 73000 loss = 0.2978695592180501\n",
            "epoch: 73500 loss = 0.29783312491680186\n",
            "epoch: 74000 loss = 0.297796873003001\n",
            "epoch: 74500 loss = 0.29776080278835976\n",
            "epoch: 75000 loss = 0.29772491360242337\n",
            "epoch: 75500 loss = 0.29768920479130323\n",
            "epoch: 76000 loss = 0.2976536757164826\n",
            "epoch: 76500 loss = 0.2976183257536877\n",
            "epoch: 77000 loss = 0.29758315429184057\n",
            "epoch: 77500 loss = 0.29754816073205226\n",
            "epoch: 78000 loss = 0.2975133444866904\n",
            "epoch: 78500 loss = 0.2974787049785012\n",
            "epoch: 79000 loss = 0.29744424163977573\n",
            "epoch: 79500 loss = 0.297409953911568\n",
            "epoch: 80000 loss = 0.2973758412429731\n",
            "epoch: 80500 loss = 0.29734190309043257\n",
            "epoch: 81000 loss = 0.2973081389170831\n",
            "epoch: 81500 loss = 0.2972745481921596\n",
            "epoch: 82000 loss = 0.297241130390423\n",
            "epoch: 82500 loss = 0.29720788499161915\n",
            "epoch: 83000 loss = 0.29717481147998837\n",
            "epoch: 83500 loss = 0.2971419093437908\n",
            "epoch: 84000 loss = 0.2971091780748694\n",
            "epoch: 84500 loss = 0.297076617168231\n",
            "epoch: 85000 loss = 0.29704422612168263\n",
            "epoch: 85500 loss = 0.2970120044354423\n",
            "epoch: 86000 loss = 0.2969799516118318\n",
            "epoch: 86500 loss = 0.29694806715494565\n",
            "epoch: 87000 loss = 0.29691635057036536\n",
            "epoch: 87500 loss = 0.29688480136489054\n",
            "epoch: 88000 loss = 0.2968534190462854\n",
            "epoch: 88500 loss = 0.2968222031230363\n",
            "epoch: 89000 loss = 0.29679115310414644\n",
            "epoch: 89500 loss = 0.296760268498924\n",
            "epoch: 90000 loss = 0.2967295488168056\n",
            "epoch: 90500 loss = 0.29669899356717455\n",
            "epoch: 91000 loss = 0.2966686022592061\n",
            "epoch: 91500 loss = 0.2966383744017237\n",
            "epoch: 92000 loss = 0.2966083095030644\n",
            "epoch: 92500 loss = 0.2965784070709509\n",
            "epoch: 93000 loss = 0.2965486666123884\n",
            "epoch: 93500 loss = 0.29651908763355794\n",
            "epoch: 94000 loss = 0.29648966963972173\n",
            "epoch: 94500 loss = 0.296460412135151\n",
            "epoch: 95000 loss = 0.2964313146230329\n",
            "epoch: 95500 loss = 0.2964023766054287\n",
            "epoch: 96000 loss = 0.29637359758318865\n",
            "epoch: 96500 loss = 0.2963449770559188\n",
            "epoch: 97000 loss = 0.2963165145219329\n",
            "epoch: 97500 loss = 0.29628820947820217\n",
            "epoch: 98000 loss = 0.29626006142033096\n",
            "epoch: 98500 loss = 0.296232069842534\n",
            "epoch: 99000 loss = 0.2962042342376037\n",
            "epoch: 99500 loss = 0.2961765540969015\n",
            "last loss 0.296149083806407\n",
            "Training acc:  0.8925425719318849\n",
            "Valuation acc:  0.910958904109589\n"
          ]
        },
        {
          "data": {
            "image/png": "[encoded data removed]",
            "text/plain": [
              "<Figure size 432x288 with 1 Axes>"
            ]
          },
          "metadata": {
            "needs_background": "light"
          },
          "output_type": "display_data"
        },
        {
          "name": "stdout",
          "output_type": "stream",
          "text": [
            "[[324.   0.   5.]\n",
            " [  3. 144.   3.]\n",
            " [ 48.   6. 197.]]\n"
          ]
        }
      ],
      "source": [
        "# Train your model here\n",
        "\n",
        "# your_model = ...\n",
        "lr = 0.02\n",
        "batch_size = 15\n",
        "epoch = 100000\n",
        "\n",
        "your_model = MultiClassLogisticRegression()\n",
        "your_model.fit(X_train, y_train, lr=lr, batch_size=batch_size, epoch=epoch)\n",
        "print(\"last loss\", your_model.train_loss[-1])\n",
        "# For Q2\n",
        "print('Training acc: ', your_model.evaluate(X_train, y_train))\n",
        "# For Q3\n",
        "print('Valuation acc: ', your_model.evaluate(X_val, y_val))\n",
        "# For Q4\n",
        "your_model.plot_curve()\n",
        "# # For Q5\n",
        "your_model.show_confusion_matrix(X_val, y_val)\n"
      ]
    },
    {
      "cell_type": "code",
      "execution_count": 24,
      "metadata": {
        "id": "68NrvUPsBsy8"
      },
      "outputs": [
        {
          "name": "stdout",
          "output_type": "stream",
          "text": [
            "test_pred shape:  (5677, 1)\n"
          ]
        }
      ],
      "source": [
        "test_probs, test_pred = your_model.predict(X_test)\n",
        "print(\"test_pred shape: \", test_pred.shape)"
      ]
    },
    {
      "cell_type": "markdown",
      "metadata": {
        "id": "LBTMFtdlB55p"
      },
      "source": [
        "# Output the csv file"
      ]
    },
    {
      "cell_type": "code",
      "execution_count": 25,
      "metadata": {
        "id": "C2OL-EI2B3ja"
      },
      "outputs": [],
      "source": [
        "# For Q13\n",
        "df_test = pd.DataFrame(pd.read_csv(\"./PR_HW2_test.csv\"))\n",
        "df_test[\"Target\"] = test_pred\n",
        "df_test.to_csv(\"sample_output.csv\")"
      ]
    }
  ],
  "metadata": {
    "colab": {
      "provenance": []
    },
    "kernelspec": {
      "display_name": "Python 3",
      "name": "python3"
    },
    "language_info": {
      "codemirror_mode": {
        "name": "ipython",
        "version": 3
      },
      "file_extension": ".py",
      "mimetype": "text/x-python",
      "name": "python",
      "nbconvert_exporter": "python",
      "pygments_lexer": "ipython3",
      "version": "3.7.6"
    }
  },
  "nbformat": 4,
  "nbformat_minor": 0
}
